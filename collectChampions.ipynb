{
 "cells": [
  {
   "cell_type": "markdown",
   "metadata": {},
   "source": [
    "Importação de bibliotecas"
   ]
  },
  {
   "cell_type": "code",
   "execution_count": 236,
   "metadata": {},
   "outputs": [],
   "source": [
    "import requests\n",
    "import pandas as pd\n",
    "from bs4 import BeautifulSoup"
   ]
  },
  {
   "cell_type": "markdown",
   "metadata": {},
   "source": [
    "Requisição do site dos campeões"
   ]
  },
  {
   "cell_type": "code",
   "execution_count": 237,
   "metadata": {},
   "outputs": [],
   "source": [
    "def get_links():\n",
    "    base_url = \"https://www.leagueoflegends.com/\"\n",
    "    url = f\"{base_url}/pt-br/champions/\"\n",
    "\n",
    "    response = requests.get(url)\n",
    "    soup_champions = BeautifulSoup(response.text)\n",
    "\n",
    "    ancoras = (soup_champions.find(\"div\", class_=\"sc-e560e08e-0 hPhkGD\")\n",
    "                             .find_all(\"a\"))\n",
    "    \n",
    "    links = [base_url + i[\"href\"] for i in ancoras]\n",
    "    return links\n"
   ]
  },
  {
   "cell_type": "code",
   "execution_count": 238,
   "metadata": {},
   "outputs": [],
   "source": [
    "def get_content(url):\n",
    "    response = requests.get(url)\n",
    "    return response"
   ]
  },
  {
   "cell_type": "markdown",
   "metadata": {},
   "source": [
    "Pega o nome do champion"
   ]
  },
  {
   "cell_type": "code",
   "execution_count": 239,
   "metadata": {},
   "outputs": [],
   "source": [
    "def get_championName(soup):\n",
    "\n",
    "    div_name = soup.find(\"div\", class_=\"sc-d4b4173b-0 jHxzVw\")\n",
    "    name = div_name.text\n",
    "    return name"
   ]
  },
  {
   "cell_type": "markdown",
   "metadata": {},
   "source": [
    "Pega a descrição"
   ]
  },
  {
   "cell_type": "code",
   "execution_count": 240,
   "metadata": {},
   "outputs": [],
   "source": [
    "def get_championDesc(soup):\n",
    "\n",
    "    div_desc = soup.find(\"div\", class_=\"sc-bc031955-0 fofXPf\")\n",
    "    desc = div_desc.text\n",
    "    return desc"
   ]
  },
  {
   "cell_type": "markdown",
   "metadata": {},
   "source": [
    "Pega a função e dificuldade"
   ]
  },
  {
   "cell_type": "code",
   "execution_count": 241,
   "metadata": {},
   "outputs": [],
   "source": [
    "def get_funcao(soup):\n",
    "\n",
    "    div_func_dif = soup.find(\"div\", class_=\"character-meta-container\")\n",
    "\n",
    "    roles = div_func_dif.find(\"div\", class_=\"character-meta-box-wrapper roles\").find(\"div\", \"meta-description\").find_all(\"p\")[1]\n",
    "    role = roles.text\n",
    "    return role\n"
   ]
  },
  {
   "cell_type": "code",
   "execution_count": 242,
   "metadata": {},
   "outputs": [],
   "source": [
    "def get_dificuldade(soup):\n",
    "    div_func_dif = soup.find(\"div\", class_=\"character-meta-container\")\n",
    "\n",
    "    dif = div_func_dif.find(\"div\", class_=\"character-meta-box-wrapper difficulty\").find(\"div\", \"meta-description\").find_all(\"p\")[1]\n",
    "    dif = dif.text\n",
    "    return dif"
   ]
  },
  {
   "cell_type": "markdown",
   "metadata": {},
   "source": [
    "Pega as habilidades\n"
   ]
  },
  {
   "cell_type": "code",
   "execution_count": 243,
   "metadata": {},
   "outputs": [],
   "source": [
    "def get_skills(soup):\n",
    "\n",
    "    div_habilidades = soup.find(\"div\", \"icon-tab--tabs\")\n",
    "    ol = div_habilidades.find(\"ol\")\n",
    "    lis = ol.find_all(\"li\")\n",
    "    skills = [i.text for i in lis]\n",
    "    \n",
    "    return skills\n",
    "    "
   ]
  },
  {
   "cell_type": "markdown",
   "metadata": {},
   "source": [
    "Pega as skins"
   ]
  },
  {
   "cell_type": "code",
   "execution_count": 244,
   "metadata": {},
   "outputs": [],
   "source": [
    "def get_skins(soup):\n",
    "\n",
    "    div_skins = soup.find(\"div\", \"sc-6bee9aac-0 lctKhT width-medium\")\n",
    "    ol = div_skins.find(\"ol\")\n",
    "    lis = ol.find_all(\"li\")\n",
    "    skins = [i.text for i in lis]\n",
    "    \n",
    "    return skins"
   ]
  },
  {
   "cell_type": "markdown",
   "metadata": {},
   "source": [
    "Junta tudo e coloca em um array"
   ]
  },
  {
   "cell_type": "code",
   "execution_count": 245,
   "metadata": {},
   "outputs": [],
   "source": [
    "def get_champion_info(url):\n",
    "\n",
    "    response = get_content(url)\n",
    "    if response.status_code != 200:\n",
    "        print(\"Não foi possivel obter os dados\")\n",
    "        return {}\n",
    "    \n",
    "    else:\n",
    "        soup = BeautifulSoup(response.text)\n",
    "        data = {}\n",
    "        data[\"Name\"] = get_championName(soup)\n",
    "        data[\"Descrição\"] = get_championDesc(soup)\n",
    "        data[\"Função\"] = get_funcao(soup)\n",
    "        data[\"Dificuldade\"] = get_dificuldade(soup)\n",
    "        data[\"Skills\"] = get_skills(soup)\n",
    "        data[\"Skins\"] = get_skins(soup)\n",
    "        return data"
   ]
  },
  {
   "cell_type": "markdown",
   "metadata": {},
   "source": [
    "Faz para todos os champions e coloca em um array"
   ]
  },
  {
   "cell_type": "code",
   "execution_count": 246,
   "metadata": {},
   "outputs": [],
   "source": [
    "links = get_links()\n",
    "\n",
    "data = []\n",
    "\n",
    "for i in links: \n",
    "    d = get_champion_info(i)\n",
    "    d[\"Link\"] = i\n",
    "    data.append(d)\n"
   ]
  },
  {
   "cell_type": "markdown",
   "metadata": {},
   "source": [
    "Utilizando Pandas é possível ver o DataFrame"
   ]
  },
  {
   "cell_type": "code",
   "execution_count": 249,
   "metadata": {},
   "outputs": [
    {
     "data": {
      "text/html": [
       "<div>\n",
       "<style scoped>\n",
       "    .dataframe tbody tr th:only-of-type {\n",
       "        vertical-align: middle;\n",
       "    }\n",
       "\n",
       "    .dataframe tbody tr th {\n",
       "        vertical-align: top;\n",
       "    }\n",
       "\n",
       "    .dataframe thead th {\n",
       "        text-align: right;\n",
       "    }\n",
       "</style>\n",
       "<table border=\"1\" class=\"dataframe\">\n",
       "  <thead>\n",
       "    <tr style=\"text-align: right;\">\n",
       "      <th></th>\n",
       "      <th>Name</th>\n",
       "      <th>Descrição</th>\n",
       "      <th>Função</th>\n",
       "      <th>Dificuldade</th>\n",
       "      <th>Skills</th>\n",
       "      <th>Skins</th>\n",
       "      <th>Link</th>\n",
       "    </tr>\n",
       "  </thead>\n",
       "  <tbody>\n",
       "    <tr>\n",
       "      <th>0</th>\n",
       "      <td>Aatrox</td>\n",
       "      <td>Antes defensores honrados de Shurima contra o ...</td>\n",
       "      <td>Lutador</td>\n",
       "      <td>Média</td>\n",
       "      <td>[Postura do Arauto da Morte, A Espada Darkin, ...</td>\n",
       "      <td>[Aatrox, Aatrox Justiceiro, Mech Aatrox, Aatro...</td>\n",
       "      <td>https://www.leagueoflegends.com//pt-br/champio...</td>\n",
       "    </tr>\n",
       "    <tr>\n",
       "      <th>1</th>\n",
       "      <td>Ahri</td>\n",
       "      <td>A ligação de Ahri com a magia do mundo espirit...</td>\n",
       "      <td>Mago / Assassino</td>\n",
       "      <td>Média</td>\n",
       "      <td>[Furto de Essência, Orbe da Ilusão, Fogo de Ra...</td>\n",
       "      <td>[Ahri, Ahri da Dinastia, Ahri Noturna, Ahri Ra...</td>\n",
       "      <td>https://www.leagueoflegends.com//pt-br/champio...</td>\n",
       "    </tr>\n",
       "    <tr>\n",
       "      <th>2</th>\n",
       "      <td>Akali</td>\n",
       "      <td>Abandonando a Ordem Kinkou e seu título de Pun...</td>\n",
       "      <td>Assassino</td>\n",
       "      <td>Média</td>\n",
       "      <td>[Marca do Assassino, Golpe dos Cinco Pontos, P...</td>\n",
       "      <td>[Akali, Akali Sinistra, Akali Infernal, Akali ...</td>\n",
       "      <td>https://www.leagueoflegends.com//pt-br/champio...</td>\n",
       "    </tr>\n",
       "    <tr>\n",
       "      <th>3</th>\n",
       "      <td>Akshan</td>\n",
       "      <td>Akshan ri da cara do perigo, lutando contra o ...</td>\n",
       "      <td>Atirador / Assassino</td>\n",
       "      <td>Baixa</td>\n",
       "      <td>[Lutando Sujo, Bumerangue Vingativo, Rebeldia,...</td>\n",
       "      <td>[Akshan, Akshan Ciberpop, Akshan Rosa de Crist...</td>\n",
       "      <td>https://www.leagueoflegends.com//pt-br/champio...</td>\n",
       "    </tr>\n",
       "    <tr>\n",
       "      <th>4</th>\n",
       "      <td>Alistar</td>\n",
       "      <td>Um poderoso guerreiro com uma temível reputaçã...</td>\n",
       "      <td>Tanque / Suporte</td>\n",
       "      <td>Média</td>\n",
       "      <td>[Urro Triunfante, Pulverizar, Cabeçada, Atrope...</td>\n",
       "      <td>[Alistar, Alistar Negro, Alistar Dourado, Alis...</td>\n",
       "      <td>https://www.leagueoflegends.com//pt-br/champio...</td>\n",
       "    </tr>\n",
       "    <tr>\n",
       "      <th>...</th>\n",
       "      <td>...</td>\n",
       "      <td>...</td>\n",
       "      <td>...</td>\n",
       "      <td>...</td>\n",
       "      <td>...</td>\n",
       "      <td>...</td>\n",
       "      <td>...</td>\n",
       "    </tr>\n",
       "    <tr>\n",
       "      <th>163</th>\n",
       "      <td>Zeri</td>\n",
       "      <td>Uma jovem obstinada e vivaz da classe operária...</td>\n",
       "      <td>Atirador</td>\n",
       "      <td>Média</td>\n",
       "      <td>[Bateria Viva, Rajada Reluzente, Laser de Ultr...</td>\n",
       "      <td>[Zeri, Zeri Rosa Definhada, Zeri Canção do Oce...</td>\n",
       "      <td>https://www.leagueoflegends.com//pt-br/champio...</td>\n",
       "    </tr>\n",
       "    <tr>\n",
       "      <th>164</th>\n",
       "      <td>Ziggs</td>\n",
       "      <td>O yordle Ziggs, amante de grandes bombas e pav...</td>\n",
       "      <td>Mago</td>\n",
       "      <td>Média</td>\n",
       "      <td>[Pavio Curto, Bomba Saltitante, Carga Concentr...</td>\n",
       "      <td>[Ziggs, Ziggs Cientista Louco, Major Ziggs, Zi...</td>\n",
       "      <td>https://www.leagueoflegends.com//pt-br/champio...</td>\n",
       "    </tr>\n",
       "    <tr>\n",
       "      <th>165</th>\n",
       "      <td>Zilean</td>\n",
       "      <td>Outrora um poderoso mago icathiano, Zilean se ...</td>\n",
       "      <td>Suporte / Mago</td>\n",
       "      <td>Média</td>\n",
       "      <td>[Tempo Engarrafado, Bomba-relógio, Retroceder,...</td>\n",
       "      <td>[Zilean, Zilean Velho Noel, Zilean Maluco Bele...</td>\n",
       "      <td>https://www.leagueoflegends.com//pt-br/champio...</td>\n",
       "    </tr>\n",
       "    <tr>\n",
       "      <th>166</th>\n",
       "      <td>Zoe</td>\n",
       "      <td>Como a personificação da travessura, imaginaçã...</td>\n",
       "      <td>Mago</td>\n",
       "      <td>Média</td>\n",
       "      <td>[Brililim!, Estrela Desviada!, Roubo Arcano, B...</td>\n",
       "      <td>[Zoe, Zoe Ciberpop, Zoe Curtindo o Verão, Zoe ...</td>\n",
       "      <td>https://www.leagueoflegends.com//pt-br/champio...</td>\n",
       "    </tr>\n",
       "    <tr>\n",
       "      <th>167</th>\n",
       "      <td>Zyra</td>\n",
       "      <td>Nascida em uma antiga catástrofe mágica, Zyra ...</td>\n",
       "      <td>Mago / Suporte</td>\n",
       "      <td>Média</td>\n",
       "      <td>[Jardim de Espinhos, Farpas Mortais, Crescimen...</td>\n",
       "      <td>[Zyra, Zyra Fogo Silvestre, Zyra Assombrada, S...</td>\n",
       "      <td>https://www.leagueoflegends.com//pt-br/champio...</td>\n",
       "    </tr>\n",
       "  </tbody>\n",
       "</table>\n",
       "<p>168 rows × 7 columns</p>\n",
       "</div>"
      ],
      "text/plain": [
       "        Name                                          Descrição  \\\n",
       "0     Aatrox  Antes defensores honrados de Shurima contra o ...   \n",
       "1       Ahri  A ligação de Ahri com a magia do mundo espirit...   \n",
       "2      Akali  Abandonando a Ordem Kinkou e seu título de Pun...   \n",
       "3     Akshan  Akshan ri da cara do perigo, lutando contra o ...   \n",
       "4    Alistar  Um poderoso guerreiro com uma temível reputaçã...   \n",
       "..       ...                                                ...   \n",
       "163     Zeri  Uma jovem obstinada e vivaz da classe operária...   \n",
       "164    Ziggs  O yordle Ziggs, amante de grandes bombas e pav...   \n",
       "165   Zilean  Outrora um poderoso mago icathiano, Zilean se ...   \n",
       "166      Zoe  Como a personificação da travessura, imaginaçã...   \n",
       "167     Zyra  Nascida em uma antiga catástrofe mágica, Zyra ...   \n",
       "\n",
       "                   Função Dificuldade  \\\n",
       "0                 Lutador       Média   \n",
       "1        Mago / Assassino       Média   \n",
       "2               Assassino       Média   \n",
       "3    Atirador / Assassino       Baixa   \n",
       "4        Tanque / Suporte       Média   \n",
       "..                    ...         ...   \n",
       "163              Atirador       Média   \n",
       "164                  Mago       Média   \n",
       "165        Suporte / Mago       Média   \n",
       "166                  Mago       Média   \n",
       "167        Mago / Suporte       Média   \n",
       "\n",
       "                                                Skills  \\\n",
       "0    [Postura do Arauto da Morte, A Espada Darkin, ...   \n",
       "1    [Furto de Essência, Orbe da Ilusão, Fogo de Ra...   \n",
       "2    [Marca do Assassino, Golpe dos Cinco Pontos, P...   \n",
       "3    [Lutando Sujo, Bumerangue Vingativo, Rebeldia,...   \n",
       "4    [Urro Triunfante, Pulverizar, Cabeçada, Atrope...   \n",
       "..                                                 ...   \n",
       "163  [Bateria Viva, Rajada Reluzente, Laser de Ultr...   \n",
       "164  [Pavio Curto, Bomba Saltitante, Carga Concentr...   \n",
       "165  [Tempo Engarrafado, Bomba-relógio, Retroceder,...   \n",
       "166  [Brililim!, Estrela Desviada!, Roubo Arcano, B...   \n",
       "167  [Jardim de Espinhos, Farpas Mortais, Crescimen...   \n",
       "\n",
       "                                                 Skins  \\\n",
       "0    [Aatrox, Aatrox Justiceiro, Mech Aatrox, Aatro...   \n",
       "1    [Ahri, Ahri da Dinastia, Ahri Noturna, Ahri Ra...   \n",
       "2    [Akali, Akali Sinistra, Akali Infernal, Akali ...   \n",
       "3    [Akshan, Akshan Ciberpop, Akshan Rosa de Crist...   \n",
       "4    [Alistar, Alistar Negro, Alistar Dourado, Alis...   \n",
       "..                                                 ...   \n",
       "163  [Zeri, Zeri Rosa Definhada, Zeri Canção do Oce...   \n",
       "164  [Ziggs, Ziggs Cientista Louco, Major Ziggs, Zi...   \n",
       "165  [Zilean, Zilean Velho Noel, Zilean Maluco Bele...   \n",
       "166  [Zoe, Zoe Ciberpop, Zoe Curtindo o Verão, Zoe ...   \n",
       "167  [Zyra, Zyra Fogo Silvestre, Zyra Assombrada, S...   \n",
       "\n",
       "                                                  Link  \n",
       "0    https://www.leagueoflegends.com//pt-br/champio...  \n",
       "1    https://www.leagueoflegends.com//pt-br/champio...  \n",
       "2    https://www.leagueoflegends.com//pt-br/champio...  \n",
       "3    https://www.leagueoflegends.com//pt-br/champio...  \n",
       "4    https://www.leagueoflegends.com//pt-br/champio...  \n",
       "..                                                 ...  \n",
       "163  https://www.leagueoflegends.com//pt-br/champio...  \n",
       "164  https://www.leagueoflegends.com//pt-br/champio...  \n",
       "165  https://www.leagueoflegends.com//pt-br/champio...  \n",
       "166  https://www.leagueoflegends.com//pt-br/champio...  \n",
       "167  https://www.leagueoflegends.com//pt-br/champio...  \n",
       "\n",
       "[168 rows x 7 columns]"
      ]
     },
     "execution_count": 249,
     "metadata": {},
     "output_type": "execute_result"
    }
   ],
   "source": [
    "df = pd.DataFrame(data)\n",
    "\n",
    "df"
   ]
  },
  {
   "cell_type": "markdown",
   "metadata": {},
   "source": [
    "Transfoma em um arquivo CSV"
   ]
  },
  {
   "cell_type": "code",
   "execution_count": 248,
   "metadata": {},
   "outputs": [],
   "source": [
    "df.to_csv(\"data_lol.csv\", index=False, sep=\";\")"
   ]
  }
 ],
 "metadata": {
  "kernelspec": {
   "display_name": "lol_scraping",
   "language": "python",
   "name": "python3"
  },
  "language_info": {
   "codemirror_mode": {
    "name": "ipython",
    "version": 3
   },
   "file_extension": ".py",
   "mimetype": "text/x-python",
   "name": "python",
   "nbconvert_exporter": "python",
   "pygments_lexer": "ipython3",
   "version": "3.10.14"
  }
 },
 "nbformat": 4,
 "nbformat_minor": 2
}
